{
 "cells": [
  {
   "cell_type": "code",
   "execution_count": 1,
   "id": "48d70196",
   "metadata": {},
   "outputs": [],
   "source": [
    "import re"
   ]
  },
  {
   "cell_type": "code",
   "execution_count": 5,
   "id": "b539c0ca",
   "metadata": {},
   "outputs": [
    {
     "name": "stdout",
     "output_type": "stream",
     "text": [
      "Bir isim Giriniz:yağız\n",
      "Bir isim Giriniz:ahmet\n",
      "Bir isim Giriniz:murat\n",
      "Bir isim Giriniz:selma\n",
      "Bir isim Giriniz:ayse\n"
     ]
    }
   ],
   "source": [
    "liste = []\n",
    "for i in range(5):\n",
    "    isim = input(\"Bir isim Giriniz:\")\n",
    "    liste.append(isim)\n",
    "    \n",
    "    "
   ]
  },
  {
   "cell_type": "code",
   "execution_count": 30,
   "id": "9c7e597c",
   "metadata": {},
   "outputs": [
    {
     "name": "stdout",
     "output_type": "stream",
     "text": [
      "['ahmet']\n",
      "['ahmet', 'selma']\n",
      "['ahmet', 'selma', 'ayse']\n"
     ]
    }
   ],
   "source": [
    "listeA = []\n",
    "pattern = r\"[A]\"\n",
    "pattern2 = r\"[e]\"\n",
    "for isim in liste:\n",
    "    if re.search(pattern,isim)or re.search(pattern2, isim):\n",
    "        listeA.append(isim)\n",
    "        print(listeA)\n",
    "        \n"
   ]
  },
  {
   "cell_type": "code",
   "execution_count": null,
   "id": "f91fae14",
   "metadata": {},
   "outputs": [],
   "source": []
  },
  {
   "cell_type": "code",
   "execution_count": null,
   "id": "3eff5bad",
   "metadata": {},
   "outputs": [],
   "source": []
  }
 ],
 "metadata": {
  "kernelspec": {
   "display_name": "Python 3 (ipykernel)",
   "language": "python",
   "name": "python3"
  },
  "language_info": {
   "codemirror_mode": {
    "name": "ipython",
    "version": 3
   },
   "file_extension": ".py",
   "mimetype": "text/x-python",
   "name": "python",
   "nbconvert_exporter": "python",
   "pygments_lexer": "ipython3",
   "version": "3.9.13"
  }
 },
 "nbformat": 4,
 "nbformat_minor": 5
}
