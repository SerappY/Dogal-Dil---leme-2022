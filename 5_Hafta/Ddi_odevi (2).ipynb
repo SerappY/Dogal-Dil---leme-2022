{
 "cells": [
  {
   "cell_type": "code",
   "execution_count": 7,
   "id": "9c0485d9",
   "metadata": {},
   "outputs": [],
   "source": [
    "import re"
   ]
  },
  {
   "cell_type": "code",
   "execution_count": 12,
   "id": "3f1c84e4",
   "metadata": {
    "scrolled": true
   },
   "outputs": [
    {
     "name": "stdout",
     "output_type": "stream",
     "text": [
      "Gmail Adresinizi giriniz:saidzbi6@gmail.com\n"
     ]
    }
   ],
   "source": [
    "isim = input(\"Gmail Adresinizi giriniz:\")"
   ]
  },
  {
   "cell_type": "code",
   "execution_count": 14,
   "id": "6b4984c5",
   "metadata": {},
   "outputs": [
    {
     "name": "stdout",
     "output_type": "stream",
     "text": [
      "Kullanıcı Adı: saidzbi6\n",
      "Domain Adı gmail.com\n"
     ]
    }
   ],
   "source": [
    "pattern = \"@\"\n",
    "liste = re.split(pattern,isim)\n",
    "print(\"Kullanıcı Adı:\",liste[0])\n",
    "print(\"Domain Adı\",liste[1])"
   ]
  },
  {
   "cell_type": "code",
   "execution_count": null,
   "id": "edf1d8c7",
   "metadata": {},
   "outputs": [],
   "source": []
  }
 ],
 "metadata": {
  "kernelspec": {
   "display_name": "Python 3 (ipykernel)",
   "language": "python",
   "name": "python3"
  },
  "language_info": {
   "codemirror_mode": {
    "name": "ipython",
    "version": 3
   },
   "file_extension": ".py",
   "mimetype": "text/x-python",
   "name": "python",
   "nbconvert_exporter": "python",
   "pygments_lexer": "ipython3",
   "version": "3.9.13"
  }
 },
 "nbformat": 4,
 "nbformat_minor": 5
}
